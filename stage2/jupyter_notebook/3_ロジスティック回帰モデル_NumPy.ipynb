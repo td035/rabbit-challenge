{
 "cells": [
  {
   "cell_type": "code",
   "execution_count": 12,
   "metadata": {},
   "outputs": [],
   "source": [
    "import numpy as np\n",
    "import matplotlib.pyplot as plt\n",
    "from sklearn.linear_model import LogisticRegression\n",
    "\n",
    "plt.style.use('ggplot')"
   ]
  },
  {
   "cell_type": "markdown",
   "metadata": {},
   "source": [
    "### 訓練データ生成"
   ]
  },
  {
   "cell_type": "code",
   "execution_count": 2,
   "metadata": {},
   "outputs": [],
   "source": [
    "n_sample = 100  # データ数\n",
    "half_n_sample = 50  # ラベルを0と1に分ける境界のデータ数\n",
    "var = .2"
   ]
  },
  {
   "cell_type": "code",
   "execution_count": 3,
   "metadata": {},
   "outputs": [],
   "source": [
    "def gen_data(n_sample: int, half_n_sample: int):\n",
    "    # ラベルが0のデータは数値を1小さくする\n",
    "    x0 = np.random.normal(size=n_sample).reshape(-1, 2) - 1.\n",
    "    # ラベルが1のデータは数値を1大きくする\n",
    "    x1 = np.random.normal(size=n_sample).reshape(-1, 2) + 1.\n",
    "    # 上で作成したデータを結合する\n",
    "    X_train = np.concatenate([x0, x1])\n",
    "    \n",
    "    # 最初の50個は0、後の50個は1の1次元配列を作成\n",
    "    y_train = np.concatenate([np.zeros(half_n_sample),\n",
    "                                           np.ones(half_n_sample)]).astype(np.int)\n",
    "    \n",
    "    return X_train, y_train"
   ]
  },
  {
   "cell_type": "code",
   "execution_count": 4,
   "metadata": {},
   "outputs": [],
   "source": [
    "#データ作成\n",
    "x_train, y_train = gen_data(n_sample, half_n_sample)"
   ]
  },
  {
   "cell_type": "code",
   "execution_count": 5,
   "metadata": {},
   "outputs": [
    {
     "name": "stdout",
     "output_type": "stream",
     "text": [
      "(100, 2)\n",
      "(100,)\n"
     ]
    }
   ],
   "source": [
    "print(x_train.shape)\n",
    "print(y_train.shape)"
   ]
  },
  {
   "cell_type": "code",
   "execution_count": 17,
   "metadata": {},
   "outputs": [
    {
     "name": "stdout",
     "output_type": "stream",
     "text": [
      "[-0.3558497  -2.75687941  0.03409377 -1.03022612 -1.89733635]\n",
      "[-0.50425156 -0.50676705  0.07025955 -1.08842071 -0.41121722  0.0959806\n",
      "  0.06169527 -0.10008324  2.74114759  1.78844926]\n",
      "[0.79621549 2.39496546 0.72067258 0.46426553 0.60420046]\n"
     ]
    }
   ],
   "source": [
    "print(x_train[:5, 0])\n",
    "print(x_train[45:55, 0])\n",
    "print(x_train[-5:, 0])"
   ]
  },
  {
   "cell_type": "code",
   "execution_count": 15,
   "metadata": {},
   "outputs": [
    {
     "name": "stdout",
     "output_type": "stream",
     "text": [
      "[0 0 0 0 0 0 0 0 0 0]\n",
      "[0 0 0 0 0 1 1 1 1 1]\n",
      "[1 1 1 1 1 1 1 1 1 1]\n"
     ]
    }
   ],
   "source": [
    "print(y_train[:10])\n",
    "print(y_train[45:55])\n",
    "print(y_train[-10:])"
   ]
  },
  {
   "cell_type": "code",
   "execution_count": 20,
   "metadata": {},
   "outputs": [
    {
     "data": {
      "image/png": "[encoded data removed]",
      "text/plain": [
       "<Figure size 432x288 with 1 Axes>"
      ]
     },
     "metadata": {},
     "output_type": "display_data"
    }
   ],
   "source": [
    "plt.scatter(x_train[:, 0], x_train[:, 1], label=\"training data\",\n",
    "                c=y_train, facecolor=\"none\", edgecolor=\"b\", s=50, )\n",
    "plt.legend(loc='lower right')\n",
    "plt.show()"
   ]
  },
  {
   "cell_type": "markdown",
   "metadata": {},
   "source": [
    "### ロジスティック回帰モデル\n",
    "上記の散布図を、ロジスティック回帰モデルで分類する。 <br/>\n",
    "<br/>\n",
    "確率的勾配降下法（SGD）を用い、学習率 $\\eta$ とすると、以下の式で $w$ を更新する。 <br/>\n",
    "$w^{k+1} = w^k - \\eta (\\sigma(w^T x) - y_i) x_i$"
   ]
  },
  {
   "cell_type": "code",
   "execution_count": 21,
   "metadata": {},
   "outputs": [],
   "source": [
    "def add_one(x: np.ndarray) -> np.ndarray:\n",
    "    \"\"\" 定数項として入力行列の1列目に1を追加する \"\"\"\n",
    "    ones = np.ones(len(x))[:, None]\n",
    "    return np.concatenate([ones, x], axis=1)"
   ]
  },
  {
   "cell_type": "code",
   "execution_count": 22,
   "metadata": {},
   "outputs": [],
   "source": [
    "def sigmoid(x):\n",
    "    \"\"\" シグモイド関数 \"\"\"\n",
    "    return 1 / (1 + np.exp(-x))"
   ]
  },
  {
   "cell_type": "code",
   "execution_count": 23,
   "metadata": {},
   "outputs": [],
   "source": [
    "def sgd(X_train, max_iter, eta):\n",
    "    \"\"\" 確率的勾配降下法\n",
    "    \n",
    "    Parameters\n",
    "    -------------\n",
    "    X_train : np.ndarray\n",
    "        学習データ\n",
    "    max_iter : int\n",
    "        最大の重みwの更新回数\n",
    "    eta : float\n",
    "        学習率\n",
    "    \n",
    "    Returns\n",
    "    ---------\n",
    "    w : np.ndarray\n",
    "        重みパラメータ\n",
    "    \"\"\"\n",
    "    w = np.zeros(X_train.shape[1])  # wはX_trainの列数の配列\n",
    "    \n",
    "    for _ in range(max_iter):\n",
    "        w_prev = np.copy(w)  # 重み更新後のwと比較するために保持\n",
    "        sigma = sigmoid(np.dot(X_train, w))\n",
    "        grad = np.dot(X_train.T, (sigma - y_train))\n",
    "        w -= eta * grad  # 重みの更新\n",
    "        \n",
    "        # 更新前と後のwを比較し、値がほぼ近い場合は更新をやめてwを返す\n",
    "        if np.allclose(w, w_prev):\n",
    "            return w\n",
    "        \n",
    "    return w"
   ]
  },
  {
   "cell_type": "code",
   "execution_count": 24,
   "metadata": {},
   "outputs": [],
   "source": [
    "max_iter = 100\n",
    "eta = 0.01"
   ]
  },
  {
   "cell_type": "code",
   "execution_count": 25,
   "metadata": {},
   "outputs": [],
   "source": [
    "X_train = add_one(x_train)"
   ]
  },
  {
   "cell_type": "code",
   "execution_count": 26,
   "metadata": {},
   "outputs": [],
   "source": [
    "w = sgd(X_train, max_iter, eta)"
   ]
  },
  {
   "cell_type": "code",
   "execution_count": 27,
   "metadata": {},
   "outputs": [
    {
     "name": "stdout",
     "output_type": "stream",
     "text": [
      "[0.02798304 2.31859258 2.06808124]\n"
     ]
    }
   ],
   "source": [
    "print(w)"
   ]
  },
  {
   "cell_type": "markdown",
   "metadata": {},
   "source": [
    "### 予測\n",
    "入力に対し $y=1$ である確率 $p$ を出力する。つまり <br/>\n",
    "$p(y=1 | x; w) = \\sigma (w^{\\mathrm{T}} x)$ <br/>\n",
    "の値が 0.5 より大きければ $y=1$ に、小さければ $y=0$ に分類する。"
   ]
  },
  {
   "cell_type": "code",
   "execution_count": 54,
   "metadata": {},
   "outputs": [],
   "source": [
    "# -5から5までの100個のデータを作成し、2つの行列を作成する。\n",
    "xx0, xx1 = np.meshgrid(np.linspace(-5, 5, 100), np.linspace(-5, 5, 100))\n",
    "xx = np.array([xx0, xx1]).reshape(2, -1).T"
   ]
  },
  {
   "cell_type": "code",
   "execution_count": 55,
   "metadata": {},
   "outputs": [
    {
     "name": "stdout",
     "output_type": "stream",
     "text": [
      "[[-5.        -4.8989899 -4.7979798 -4.6969697 -4.5959596]\n",
      " [-5.        -4.8989899 -4.7979798 -4.6969697 -4.5959596]\n",
      " [-5.        -4.8989899 -4.7979798 -4.6969697 -4.5959596]\n",
      " [-5.        -4.8989899 -4.7979798 -4.6969697 -4.5959596]\n",
      " [-5.        -4.8989899 -4.7979798 -4.6969697 -4.5959596]]\n",
      "[[-5.        -5.        -5.        -5.        -5.       ]\n",
      " [-4.8989899 -4.8989899 -4.8989899 -4.8989899 -4.8989899]\n",
      " [-4.7979798 -4.7979798 -4.7979798 -4.7979798 -4.7979798]\n",
      " [-4.6969697 -4.6969697 -4.6969697 -4.6969697 -4.6969697]\n",
      " [-4.5959596 -4.5959596 -4.5959596 -4.5959596 -4.5959596]]\n"
     ]
    }
   ],
   "source": [
    "print(xx0[:5, :5])\n",
    "print(xx1[:5, :5])"
   ]
  },
  {
   "cell_type": "code",
   "execution_count": 56,
   "metadata": {},
   "outputs": [
    {
     "name": "stdout",
     "output_type": "stream",
     "text": [
      "(10000, 2)\n",
      "[[-5.        -5.       ]\n",
      " [-4.8989899 -5.       ]\n",
      " [-4.7979798 -5.       ]\n",
      " [-4.6969697 -5.       ]\n",
      " [-4.5959596 -5.       ]]\n"
     ]
    }
   ],
   "source": [
    "print(xx.shape)\n",
    "print(xx[:5])"
   ]
  },
  {
   "cell_type": "code",
   "execution_count": 57,
   "metadata": {},
   "outputs": [],
   "source": [
    "X_test = add_one(xx)  # 1列目に全ての値が1の列を追加する"
   ]
  },
  {
   "cell_type": "code",
   "execution_count": 58,
   "metadata": {},
   "outputs": [
    {
     "name": "stdout",
     "output_type": "stream",
     "text": [
      "(10000, 3)\n",
      "[[ 1.        -5.        -5.       ]\n",
      " [ 1.        -4.8989899 -5.       ]\n",
      " [ 1.        -4.7979798 -5.       ]\n",
      " [ 1.        -4.6969697 -5.       ]\n",
      " [ 1.        -4.5959596 -5.       ]]\n"
     ]
    }
   ],
   "source": [
    "print(X_test.shape)\n",
    "print(X_test[:5])"
   ]
  },
  {
   "cell_type": "code",
   "execution_count": 59,
   "metadata": {},
   "outputs": [],
   "source": [
    "proba = sigmoid(np.dot(X_test, w))  # シグモイド関数により確率pを求める"
   ]
  },
  {
   "cell_type": "code",
   "execution_count": 60,
   "metadata": {},
   "outputs": [
    {
     "name": "stdout",
     "output_type": "stream",
     "text": [
      "(10000,)\n",
      "[3.06627920e-10 3.87546676e-10 4.89819800e-10 6.19082683e-10\n",
      " 7.82457893e-10 9.88947633e-10 1.24992978e-09 1.57978481e-09\n",
      " 1.99668821e-09 2.52361194e-09]\n"
     ]
    }
   ],
   "source": [
    "print(proba.shape)\n",
    "print(proba[:10])"
   ]
  },
  {
   "cell_type": "code",
   "execution_count": 61,
   "metadata": {},
   "outputs": [],
   "source": [
    "y_pred = (proba > 0.5).astype(np.int)"
   ]
  },
  {
   "cell_type": "code",
   "execution_count": 62,
   "metadata": {},
   "outputs": [
    {
     "name": "stdout",
     "output_type": "stream",
     "text": [
      "(10000,)\n",
      "[0 0 0 0 0 0 0 0 0 0]\n"
     ]
    }
   ],
   "source": [
    "print(y_pred.shape)\n",
    "print(y_pred[:10])"
   ]
  },
  {
   "cell_type": "code",
   "execution_count": 64,
   "metadata": {},
   "outputs": [],
   "source": [
    "# プロット前の処理 : proba を xx0, xx1のサイズに変換する\n",
    "Z_proba = proba.reshape(100, 100)"
   ]
  },
  {
   "cell_type": "code",
   "execution_count": 67,
   "metadata": {},
   "outputs": [
    {
     "data": {
      "image/png": "[encoded data removed]",
      "text/plain": [
       "<Figure size 432x288 with 1 Axes>"
      ]
     },
     "metadata": {},
     "output_type": "display_data"
    }
   ],
   "source": [
    "# 学習データは散布図でプロットする\n",
    "plt.scatter(x_train[:, 0], x_train[:, 1], c=y_train)\n",
    "# 予測した分類を等高線で可視化する\n",
    "# alpha: 透明度、 levels: 等高線の間隔\n",
    "plt.contourf(xx0, xx1, Z_proba, alpha=0.2, levels=np.linspace(0, 1, 3))\n",
    "plt.title('prediction')\n",
    "plt.show()"
   ]
  },
  {
   "cell_type": "markdown",
   "metadata": {},
   "source": [
    "### （比較用）scikit-learnによる予測"
   ]
  },
  {
   "cell_type": "code",
   "execution_count": 49,
   "metadata": {},
   "outputs": [],
   "source": [
    "model = LogisticRegression(fit_intercept=True)\n",
    "model.fit(x_train, y_train)\n",
    "proba = model.predict_proba(xx)\n",
    "y_pred = (proba > 0.5).astype(np.int)"
   ]
  },
  {
   "cell_type": "code",
   "execution_count": 50,
   "metadata": {},
   "outputs": [
    {
     "data": {
      "image/png": "[encoded data removed]",
      "text/plain": [
       "<Figure size 432x288 with 1 Axes>"
      ]
     },
     "metadata": {},
     "output_type": "display_data"
    }
   ],
   "source": [
    "plt.scatter(x_train[:, 0], x_train[:, 1], c=y_train)\n",
    "plt.contourf(xx0, xx1, proba[:, 0].reshape(100, 100), alpha=0.2, levels=np.linspace(0, 1, 3))\n",
    "plt.title('prediction (scikit-learn)')\n",
    "plt.show()"
   ]
  },
  {
   "cell_type": "code",
   "execution_count": null,
   "metadata": {},
   "outputs": [],
   "source": []
  }
 ],
 "metadata": {
  "kernelspec": {
   "display_name": "Python 3",
   "language": "python",
   "name": "python3"
  },
  "language_info": {
   "codemirror_mode": {
    "name": "ipython",
    "version": 3
   },
   "file_extension": ".py",
   "mimetype": "text/x-python",
   "name": "python",
   "nbconvert_exporter": "python",
   "pygments_lexer": "ipython3",
   "version": "3.7.7"
  }
 },
 "nbformat": 4,
 "nbformat_minor": 4
}
