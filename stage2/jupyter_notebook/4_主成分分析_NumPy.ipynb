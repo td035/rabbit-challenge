{
 "cells": [
  {
   "cell_type": "code",
   "execution_count": 63,
   "metadata": {},
   "outputs": [],
   "source": [
    "import numpy as np\n",
    "import matplotlib.pyplot as plt\n",
    "%matplotlib inline\n",
    "from sklearn.decomposition import PCA\n",
    "plt.style.use('ggplot')"
   ]
  },
  {
   "cell_type": "markdown",
   "metadata": {},
   "source": [
    "## 訓練データ生成"
   ]
  },
  {
   "cell_type": "code",
   "execution_count": 10,
   "metadata": {},
   "outputs": [],
   "source": [
    "def gen_data(n_samples):\n",
    "    \"\"\"多変量正規分布に従う乱数を生成する\"\"\"\n",
    "    mean = [0, 0]  # 平均\n",
    "    cov = [[2, 0.7], [0.7, 1]]  # 共分散行列を作成\n",
    "    X = np.random.multivariate_normal(mean, cov, n_samples)\n",
    "    return X"
   ]
  },
  {
   "cell_type": "code",
   "execution_count": 11,
   "metadata": {},
   "outputs": [],
   "source": [
    "n_samples = 100"
   ]
  },
  {
   "cell_type": "code",
   "execution_count": 12,
   "metadata": {},
   "outputs": [],
   "source": [
    "X = gen_data(n_samples)"
   ]
  },
  {
   "cell_type": "code",
   "execution_count": 17,
   "metadata": {},
   "outputs": [
    {
     "name": "stdout",
     "output_type": "stream",
     "text": [
      "(100, 2)\n",
      "[[2.3812454  1.56758145]\n",
      " [1.28882128 0.73901358]\n",
      " [0.01316016 0.46492376]]\n"
     ]
    }
   ],
   "source": [
    "print(X.shape)\n",
    "print(X[:3])"
   ]
  },
  {
   "cell_type": "code",
   "execution_count": 61,
   "metadata": {},
   "outputs": [
    {
     "data": {
      "image/png": "[encoded data removed]",
      "text/plain": [
       "<Figure size 432x288 with 1 Axes>"
      ]
     },
     "metadata": {},
     "output_type": "display_data"
    }
   ],
   "source": [
    "# 多変量データの散布図を描画\n",
    "plt.scatter(X[:, 0], X[:, 1])\n",
    "plt.xlim(-5, 5)\n",
    "plt.ylim(-5, 5)\n",
    "plt.show()"
   ]
  },
  {
   "cell_type": "markdown",
   "metadata": {},
   "source": [
    "## 学習\n",
    "訓練データ $X = [x_{1}, x_{2}, ..., x_{n}]^{\\mathrm{T}}$ に対して $\\mathbb{E}[x]=0$ となるように変換する。 <br/>\n",
    "すると、不偏共分散行列は $Var[x] = \\frac{1}{n-1} X^{\\mathrm{T}}X$ と書ける。 <br/>\n",
    "$Var[x]$ を固有値分解し、固有値の大きい順に対応する固有ベクトルを第1主成分( $w_{1}$ ), 第2主成分( $w_{2}$ ), ...とよぶ。"
   ]
  },
  {
   "cell_type": "code",
   "execution_count": 22,
   "metadata": {},
   "outputs": [],
   "source": [
    "def get_moments(X):\n",
    "    mean = X.mean(axis=0)  # 多変量データの平均\n",
    "    X = X - mean\n",
    "    standard_cov = np.dot(X.T, X) / (len(X) - 1)  # 不偏共分散行列を求める\n",
    "    return mean, standard_cov"
   ]
  },
  {
   "cell_type": "code",
   "execution_count": 19,
   "metadata": {},
   "outputs": [],
   "source": [
    "def get_components(eig_vectors, n_components):\n",
    "    \"\"\" 固有ベクトルから主成分を取得する\n",
    "    \n",
    "    Parameter\n",
    "    -----------\n",
    "    eig_vectors : np.ndarray\n",
    "        固有ベクトル\n",
    "    n_components : int\n",
    "        主成分の数\n",
    "    \"\"\"\n",
    "    W = eig_vectors[:, ::-1][:, :n_components]\n",
    "    return W.T"
   ]
  },
  {
   "cell_type": "code",
   "execution_count": 20,
   "metadata": {},
   "outputs": [],
   "source": [
    "n_components = 2"
   ]
  },
  {
   "cell_type": "code",
   "execution_count": 23,
   "metadata": {},
   "outputs": [],
   "source": [
    "#分散共分散行列を標準化\n",
    "mean, standard_cov = get_moments(X)"
   ]
  },
  {
   "cell_type": "code",
   "execution_count": 25,
   "metadata": {},
   "outputs": [
    {
     "name": "stdout",
     "output_type": "stream",
     "text": [
      "[0.1933388  0.24116131]\n",
      "[[1.56135913 0.64611946]\n",
      " [0.64611946 0.87742964]]\n"
     ]
    }
   ],
   "source": [
    "print(mean)\n",
    "print(standard_cov)"
   ]
  },
  {
   "cell_type": "code",
   "execution_count": 27,
   "metadata": {},
   "outputs": [],
   "source": [
    "# 固有値と固有ベクトルを計算\n",
    "# np.linalg.eigh はエルミート行列を入力として固有値と固有ベクトルを出力する\n",
    "eig_values, eig_vectors = np.linalg.eigh(standard_cov)"
   ]
  },
  {
   "cell_type": "code",
   "execution_count": 29,
   "metadata": {},
   "outputs": [
    {
     "name": "stdout",
     "output_type": "stream",
     "text": [
      "[0.48836071 1.95042807]\n",
      "[[ 0.51585731 -0.85667452]\n",
      " [-0.85667452 -0.51585731]]\n",
      "<class 'numpy.ndarray'>\n"
     ]
    }
   ],
   "source": [
    "print(eig_values)  # 固有値\n",
    "print(eig_vectors)  # 固有ベクトル"
   ]
  },
  {
   "cell_type": "code",
   "execution_count": 30,
   "metadata": {},
   "outputs": [],
   "source": [
    "components = get_components(eigenvectors, n_components)"
   ]
  },
  {
   "cell_type": "code",
   "execution_count": 47,
   "metadata": {},
   "outputs": [
    {
     "name": "stdout",
     "output_type": "stream",
     "text": [
      "[[-0.85667452 -0.51585731]\n",
      " [ 0.51585731 -0.85667452]]\n"
     ]
    }
   ],
   "source": [
    "print(components)"
   ]
  },
  {
   "cell_type": "code",
   "execution_count": 48,
   "metadata": {},
   "outputs": [],
   "source": [
    "w1 = components[0, :]\n",
    "w2 = components[1, :]"
   ]
  },
  {
   "cell_type": "code",
   "execution_count": 62,
   "metadata": {},
   "outputs": [
    {
     "data": {
      "image/png": "[encoded data removed]",
      "text/plain": [
       "<Figure size 432x288 with 1 Axes>"
      ]
     },
     "metadata": {},
     "output_type": "display_data"
    }
   ],
   "source": [
    "# 元データの散布図\n",
    "plt.scatter(X[:, 0], X[:, 1], color='b', alpha=0.3)\n",
    "# 第1主成分： (0, 0)を中心に、w1[0]からw1[1]へのベクトルを描画\n",
    "plt.quiver(0, 0, w1[0], w1[1], width=0.01, scale=6, color='red', label='component 1')\n",
    "# 第2主成分： (0, 0)を中心に、w2[0]からw2[1]へのベクトルを描画\n",
    "plt.quiver(0, 0, w2[0], w2[1], width=0.01, scale=6, color='green', label='component 2')\n",
    "plt.xlim(-5, 5)\n",
    "plt.ylim(-5, 5)\n",
    "plt.legend()\n",
    "plt.show()"
   ]
  },
  {
   "cell_type": "markdown",
   "metadata": {},
   "source": [
    "## 変換（射影）\n",
    "元のデータを $m$ 次元に射影するときは、行列 $W$ を $W=[w_{1}, w_{2}, \\cdots, w_{m}]$ とし、データ点 $x$ を $z = W^{\\mathrm{T}} x$ によって変換(射影)する。 <br/>\n",
    "よって、データ $X$ に対しては $Z = X^{\\mathrm{T}}W$ によって変換する。"
   ]
  },
  {
   "cell_type": "code",
   "execution_count": 56,
   "metadata": {},
   "outputs": [],
   "source": [
    "def transform_by_pca(X, PCA):\n",
    "    \"\"\"データXをpcaによって変換する\"\"\"\n",
    "    mean = X.mean(axis=0)\n",
    "    X = X - mean\n",
    "    Z = np.dot(X, PCA)\n",
    "    return Z"
   ]
  },
  {
   "cell_type": "code",
   "execution_count": 57,
   "metadata": {},
   "outputs": [],
   "source": [
    "Z = transform_by_pca(X, components.T)"
   ]
  },
  {
   "cell_type": "code",
   "execution_count": 59,
   "metadata": {},
   "outputs": [
    {
     "name": "stdout",
     "output_type": "stream",
     "text": [
      "(100, 2)\n"
     ]
    }
   ],
   "source": [
    "print(Z.shape)"
   ]
  },
  {
   "cell_type": "code",
   "execution_count": 60,
   "metadata": {},
   "outputs": [
    {
     "data": {
      "image/png": "[encoded data removed]",
      "text/plain": [
       "<Figure size 432x288 with 1 Axes>"
      ]
     },
     "metadata": {},
     "output_type": "display_data"
    }
   ],
   "source": [
    "plt.scatter(Z[:, 0], Z[:, 1])\n",
    "plt.xlim(-5, 5)\n",
    "plt.ylim(-5, 5)\n",
    "plt.show()"
   ]
  },
  {
   "cell_type": "markdown",
   "metadata": {},
   "source": [
    "## 逆変換\n",
    "射影されたデータ点 $z$ を元のデータ空間へ逆変換するときは $\\bar{x} = (W^{\\mathrm{T}})^{-1} z = Wz$ によって変換する。 <br/>\n",
    "よって、射影されたデータ $Z$ に対しては $\\bar{X} = ZW^{\\mathrm{T}}$ によって変換する。"
   ]
  },
  {
   "cell_type": "code",
   "execution_count": 64,
   "metadata": {},
   "outputs": [],
   "source": [
    "mean = X.mean(axis=0)\n",
    "X_ = np.dot(Z, components.T) + mean"
   ]
  },
  {
   "cell_type": "code",
   "execution_count": 65,
   "metadata": {},
   "outputs": [
    {
     "data": {
      "image/png": "[encoded data removed]",
      "text/plain": [
       "<Figure size 432x288 with 1 Axes>"
      ]
     },
     "metadata": {},
     "output_type": "display_data"
    }
   ],
   "source": [
    "plt.scatter(X_[:, 0], X_[:, 1])\n",
    "plt.xlim(-5, 5)\n",
    "plt.ylim(-5, 5)\n",
    "plt.show()"
   ]
  },
  {
   "cell_type": "markdown",
   "metadata": {},
   "source": [
    "## （比較用）sklearnで主成分分析"
   ]
  },
  {
   "cell_type": "code",
   "execution_count": 66,
   "metadata": {},
   "outputs": [
    {
     "data": {
      "text/plain": [
       "PCA(n_components=2)"
      ]
     },
     "execution_count": 66,
     "metadata": {},
     "output_type": "execute_result"
    }
   ],
   "source": [
    "pca = PCA(n_components=2)\n",
    "pca.fit(X)"
   ]
  },
  {
   "cell_type": "code",
   "execution_count": 71,
   "metadata": {},
   "outputs": [
    {
     "name": "stdout",
     "output_type": "stream",
     "text": [
      "主成分:\n",
      "[[ 0.85667452  0.51585731]\n",
      " [-0.51585731  0.85667452]]\n",
      "平均: [0.1933388  0.24116131]\n",
      "共分散:\n",
      "[[1.56135913 0.64611946]\n",
      " [0.64611946 0.87742964]]\n"
     ]
    }
   ],
   "source": [
    "print(f'主成分:\\n{pca.components_}')\n",
    "print(f'平均: {pca.mean_}')\n",
    "print(f'共分散:\\n{pca.get_covariance()}') "
   ]
  },
  {
   "cell_type": "code",
   "execution_count": 69,
   "metadata": {},
   "outputs": [],
   "source": [
    "w1 = pca.components_[0, :]\n",
    "w2 = pca.components_[1, :]"
   ]
  },
  {
   "cell_type": "code",
   "execution_count": 70,
   "metadata": {},
   "outputs": [
    {
     "data": {
      "image/png": "[encoded data removed]",
      "text/plain": [
       "<Figure size 432x288 with 1 Axes>"
      ]
     },
     "metadata": {},
     "output_type": "display_data"
    }
   ],
   "source": [
    "# 元データの散布図\n",
    "plt.scatter(X[:, 0], X[:, 1], color='b', alpha=0.3)\n",
    "# 第1主成分： (0, 0)を中心に、w1[0]からw1[1]へのベクトルを描画\n",
    "plt.quiver(0, 0, w1[0], w1[1], width=0.01, scale=6, color='red', label='component 1')\n",
    "# 第2主成分： (0, 0)を中心に、w2[0]からw2[1]へのベクトルを描画\n",
    "plt.quiver(0, 0, w2[0], w2[1], width=0.01, scale=6, color='green', label='component 2')\n",
    "plt.xlim(-5, 5)\n",
    "plt.ylim(-5, 5)\n",
    "plt.legend()\n",
    "plt.show()"
   ]
  },
  {
   "cell_type": "code",
   "execution_count": null,
   "metadata": {},
   "outputs": [],
   "source": []
  }
 ],
 "metadata": {
  "kernelspec": {
   "display_name": "Python 3",
   "language": "python",
   "name": "python3"
  },
  "language_info": {
   "codemirror_mode": {
    "name": "ipython",
    "version": 3
   },
   "file_extension": ".py",
   "mimetype": "text/x-python",
   "name": "python",
   "nbconvert_exporter": "python",
   "pygments_lexer": "ipython3",
   "version": "3.7.7"
  }
 },
 "nbformat": 4,
 "nbformat_minor": 4
}
